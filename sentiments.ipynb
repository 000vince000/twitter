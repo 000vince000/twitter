{
 "cells": [
  {
   "cell_type": "code",
   "execution_count": 19,
   "metadata": {},
   "outputs": [],
   "source": [
    "import pandas as pd\n",
    "import numpy as np\n",
    "import tweepy # to use Twitter’s API\n",
    "#import textblob as TextBlob # for doing sentimental analysis\n",
    "from textblob import TextBlob\n",
    "import re # regex for cleaning the tweets"
   ]
  },
  {
   "cell_type": "code",
   "execution_count": 3,
   "metadata": {},
   "outputs": [],
   "source": [
    "# Twitter Api Credentials\n",
    "consumer_key = '04AVoeKt2hRofIDdaM1mtijaT'\n",
    "consumer_secret = 'sy7NX99zOMVShO1TdpaApeXsQ8rqlSZq64tFY3spCaPoy2f5sE'\n",
    "access_token = '941842956-FvsmKxzzp6isal1JA0eQh6F1smn2teabCYogdjZu'\n",
    "access_token_secret = 'tbGYW3hYzxV7jDLw9REtFLZ5cGs2qd3rtxPoExh6exa0T'"
   ]
  },
  {
   "cell_type": "code",
   "execution_count": 4,
   "metadata": {},
   "outputs": [],
   "source": [
    "def twitter():\n",
    "    # Creating the authentication object\n",
    "    auth = tweepy.OAuthHandler(consumer_key, consumer_secret) \n",
    "    # Setting your access token and secret\n",
    "    auth.set_access_token(access_token, access_token_secret) \n",
    "    # Creating the API object while passing in auth information\n",
    "    api = tweepy.API(auth, wait_on_rate_limit = True)  \n",
    "    return api"
   ]
  },
  {
   "cell_type": "code",
   "execution_count": 37,
   "metadata": {},
   "outputs": [
    {
     "name": "stdout",
     "output_type": "stream",
     "text": [
      "10 recent tweets:\n",
      "\n",
      "There hasn't been any innovation in podcasting for 10 years. it is a very antiquated, primitive (lack of) technolog… https://t.co/QF7o2EnUc5\n",
      "\n",
      "RT @iingwen: Today I asked the Executive Yuan to draw up a humanitarian assistance action plan for #HongKong citizens that lays out clear,…\n",
      "\n",
      "It's truly a sad day for all of those whose name is Karen. #CentralParkKaren #CentralParKKKaren\n",
      "\n",
      "Level-10 honesty https://t.co/M0QJbb0kRR\n",
      "\n",
      "Underrated tweetstorm https://t.co/8gJTAkAWF5\n",
      "\n",
      "@YouTube has achieved some draconian level bs\n",
      "\n",
      "Can verify this. Comment deleted within 10 seconds. https://t.co/k851XvMIZ7 https://t.co/lwa7S4UynY\n",
      "\n",
      "@BethanyAllenEbr It is a world in which China excels at and America is failing to compete in. The paradigm must be changed.\n",
      "\n",
      "“Always make time for baseball.”\n",
      "\n",
      "Pablo Casals to 7-year-old Yo-Yo Ma\n",
      "\n",
      "Plato's epistemology for madness: \"human infirmity and divine release of the soul\"\n",
      "\n",
      "Of the divine: \"prophetic (Apol… https://t.co/zqduddb7gf\n",
      "\n"
     ]
    }
   ],
   "source": [
    "# Creating tw object\n",
    "tw = twitter()\n",
    "# Extracting Ellen DeGeneres tweets\n",
    "search = tw.user_timeline(screen_name=\"vinnygarr\", count = 1500, lang =\"en\")\n",
    "#  Printing last 10 tweets\n",
    "print(\"10 recent tweets:\\n\")\n",
    "for tweets in search[:10]:\n",
    "    print(tweets.text + '\\n')"
   ]
  },
  {
   "cell_type": "code",
   "execution_count": 38,
   "metadata": {},
   "outputs": [
    {
     "data": {
      "text/html": [
       "<div>\n",
       "<style scoped>\n",
       "    .dataframe tbody tr th:only-of-type {\n",
       "        vertical-align: middle;\n",
       "    }\n",
       "\n",
       "    .dataframe tbody tr th {\n",
       "        vertical-align: top;\n",
       "    }\n",
       "\n",
       "    .dataframe thead th {\n",
       "        text-align: right;\n",
       "    }\n",
       "</style>\n",
       "<table border=\"1\" class=\"dataframe\">\n",
       "  <thead>\n",
       "    <tr style=\"text-align: right;\">\n",
       "      <th></th>\n",
       "      <th>Tweets</th>\n",
       "    </tr>\n",
       "  </thead>\n",
       "  <tbody>\n",
       "    <tr>\n",
       "      <th>0</th>\n",
       "      <td>There hasn't been any innovation in podcasting...</td>\n",
       "    </tr>\n",
       "    <tr>\n",
       "      <th>1</th>\n",
       "      <td>RT @iingwen: Today I asked the Executive Yuan ...</td>\n",
       "    </tr>\n",
       "    <tr>\n",
       "      <th>2</th>\n",
       "      <td>It's truly a sad day for all of those whose na...</td>\n",
       "    </tr>\n",
       "    <tr>\n",
       "      <th>3</th>\n",
       "      <td>Level-10 honesty https://t.co/M0QJbb0kRR</td>\n",
       "    </tr>\n",
       "    <tr>\n",
       "      <th>4</th>\n",
       "      <td>Underrated tweetstorm https://t.co/8gJTAkAWF5</td>\n",
       "    </tr>\n",
       "    <tr>\n",
       "      <th>5</th>\n",
       "      <td>@YouTube has achieved some draconian level bs</td>\n",
       "    </tr>\n",
       "    <tr>\n",
       "      <th>6</th>\n",
       "      <td>Can verify this. Comment deleted within 10 sec...</td>\n",
       "    </tr>\n",
       "    <tr>\n",
       "      <th>7</th>\n",
       "      <td>@BethanyAllenEbr It is a world in which China ...</td>\n",
       "    </tr>\n",
       "    <tr>\n",
       "      <th>8</th>\n",
       "      <td>“Always make time for baseball.”\\n\\nPablo Casa...</td>\n",
       "    </tr>\n",
       "    <tr>\n",
       "      <th>9</th>\n",
       "      <td>Plato's epistemology for madness: \"human infir...</td>\n",
       "    </tr>\n",
       "    <tr>\n",
       "      <th>10</th>\n",
       "      <td>delight: found the next great books to read\\ng...</td>\n",
       "    </tr>\n",
       "    <tr>\n",
       "      <th>11</th>\n",
       "      <td>Has Covid19 weakened the US or China more? I g...</td>\n",
       "    </tr>\n",
       "    <tr>\n",
       "      <th>12</th>\n",
       "      <td>Take your salary, divide it by the number of w...</td>\n",
       "    </tr>\n",
       "    <tr>\n",
       "      <th>13</th>\n",
       "      <td>@investing_city Agreed. And selling at the top...</td>\n",
       "    </tr>\n",
       "    <tr>\n",
       "      <th>14</th>\n",
       "      <td>RT @george__mack: Facebook buying Instagram fo...</td>\n",
       "    </tr>\n",
       "    <tr>\n",
       "      <th>15</th>\n",
       "      <td>@balakachai @george__mack bravo</td>\n",
       "    </tr>\n",
       "    <tr>\n",
       "      <th>16</th>\n",
       "      <td>RT @patrickc: \"Pessimists sound smart. Optimis...</td>\n",
       "    </tr>\n",
       "    <tr>\n",
       "      <th>17</th>\n",
       "      <td>\"As wolves love lambs so lovers love their bel...</td>\n",
       "    </tr>\n",
       "    <tr>\n",
       "      <th>18</th>\n",
       "      <td>In terms of philosophy, the remarkable differe...</td>\n",
       "    </tr>\n",
       "    <tr>\n",
       "      <th>19</th>\n",
       "      <td>The foundation of the First Principles is the ...</td>\n",
       "    </tr>\n",
       "  </tbody>\n",
       "</table>\n",
       "</div>"
      ],
      "text/plain": [
       "                                               Tweets\n",
       "0   There hasn't been any innovation in podcasting...\n",
       "1   RT @iingwen: Today I asked the Executive Yuan ...\n",
       "2   It's truly a sad day for all of those whose na...\n",
       "3            Level-10 honesty https://t.co/M0QJbb0kRR\n",
       "4       Underrated tweetstorm https://t.co/8gJTAkAWF5\n",
       "5       @YouTube has achieved some draconian level bs\n",
       "6   Can verify this. Comment deleted within 10 sec...\n",
       "7   @BethanyAllenEbr It is a world in which China ...\n",
       "8   “Always make time for baseball.”\\n\\nPablo Casa...\n",
       "9   Plato's epistemology for madness: \"human infir...\n",
       "10  delight: found the next great books to read\\ng...\n",
       "11  Has Covid19 weakened the US or China more? I g...\n",
       "12  Take your salary, divide it by the number of w...\n",
       "13  @investing_city Agreed. And selling at the top...\n",
       "14  RT @george__mack: Facebook buying Instagram fo...\n",
       "15                    @balakachai @george__mack bravo\n",
       "16  RT @patrickc: \"Pessimists sound smart. Optimis...\n",
       "17  \"As wolves love lambs so lovers love their bel...\n",
       "18  In terms of philosophy, the remarkable differe...\n",
       "19  The foundation of the First Principles is the ..."
      ]
     },
     "execution_count": 38,
     "metadata": {},
     "output_type": "execute_result"
    }
   ],
   "source": [
    "# Converting into dataframe (Column name Tweets)\n",
    "df = pd.DataFrame([tweets.text for tweets in search], columns=['Tweets'])"
   ]
  },
  {
   "cell_type": "code",
   "execution_count": 48,
   "metadata": {},
   "outputs": [
    {
     "data": {
      "text/plain": [
       "(200, 1)"
      ]
     },
     "execution_count": 48,
     "metadata": {},
     "output_type": "execute_result"
    }
   ],
   "source": [
    "df.shape"
   ]
  },
  {
   "cell_type": "code",
   "execution_count": 50,
   "metadata": {},
   "outputs": [],
   "source": [
    "# Cleaning the tweets\n",
    "# Creating a function called clean. removing hyperlink, #, RT, @mentions\n",
    "def clean(x):\n",
    " x = re.sub(r'^RT[\\s]+', '', x)\n",
    " x = re.sub(r'https?:\\/\\/.*[\\r\\n]*', '', x)\n",
    " x = re.sub(r'#', '', x)\n",
    " x = re.sub(r'@[A-Za-z0–9]+', '', x) \n",
    " return x\n",
    "df['Tweets'] = df['Tweets'].apply(clean)"
   ]
  },
  {
   "cell_type": "code",
   "execution_count": 51,
   "metadata": {},
   "outputs": [],
   "source": [
    "polarity = lambda x: TextBlob(x).sentiment.polarity\n",
    "subjectivity = lambda x: TextBlob(x).sentiment.subjectivity\n",
    "df['polarity'] = df['Tweets'].apply(polarity)\n",
    "df['subjectivity'] = df['Tweets'].apply(subjectivity)"
   ]
  },
  {
   "cell_type": "code",
   "execution_count": 52,
   "metadata": {},
   "outputs": [
    {
     "data": {
      "image/png": "[encoded data removed]",
      "text/plain": [
       "<Figure size 720x576 with 1 Axes>"
      ]
     },
     "metadata": {
      "needs_background": "light"
     },
     "output_type": "display_data"
    }
   ],
   "source": [
    "# Let’s plot the results\n",
    "import matplotlib.pyplot as plt\n",
    "%matplotlib inline\n",
    "plt.rcParams['figure.figsize'] = [10, 8]\n",
    "for index, Tweets in enumerate(df.index):\n",
    " x = df.polarity.loc[Tweets]\n",
    " y = df.subjectivity.loc[Tweets]\n",
    " plt.scatter(x, y, color='Red')\n",
    " \n",
    " \n",
    "plt.title('Sentiment Analysis', fontsize = 20)\n",
    "plt.xlabel('← Negative — — — — — — Positive →', fontsize=15)\n",
    "plt.ylabel('← Facts — — — — — — — Opinions →', fontsize=15)\n",
    "plt.show()"
   ]
  },
  {
   "cell_type": "code",
   "execution_count": 56,
   "metadata": {},
   "outputs": [],
   "source": [
    "# Creating function for calculating positive, negative and neutral\n",
    "# More than 1 --> Positive, equal to 0 --> neutral and less than 0 --> Negative\n",
    "def ratio(x):\n",
    "    if x > 0:\n",
    "        return 1\n",
    "    elif x == 0:\n",
    "        return 0\n",
    "    else:\n",
    "        return -1\n",
    "df['analysis'] = df['polarity'].apply(ratio)"
   ]
  },
  {
   "cell_type": "code",
   "execution_count": 61,
   "metadata": {},
   "outputs": [
    {
     "data": {
      "image/png": "[encoded data removed]",
      "text/plain": [
       "<Figure size 720x576 with 1 Axes>"
      ]
     },
     "metadata": {
      "needs_background": "light"
     },
     "output_type": "display_data"
    }
   ],
   "source": [
    "# Plotting\n",
    "df['analysis'].value_counts().plot(kind = 'bar')\n",
    "plt.show()"
   ]
  },
  {
   "cell_type": "code",
   "execution_count": null,
   "metadata": {},
   "outputs": [],
   "source": []
  }
 ],
 "metadata": {
  "kernelspec": {
   "display_name": "Python 3",
   "language": "python",
   "name": "python3"
  },
  "language_info": {
   "codemirror_mode": {
    "name": "ipython",
    "version": 3
   },
   "file_extension": ".py",
   "mimetype": "text/x-python",
   "name": "python",
   "nbconvert_exporter": "python",
   "pygments_lexer": "ipython3",
   "version": "3.7.6"
  }
 },
 "nbformat": 4,
 "nbformat_minor": 4
}
